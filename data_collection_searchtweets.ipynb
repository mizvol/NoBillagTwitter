{
 "cells": [
  {
   "cell_type": "markdown",
   "metadata": {},
   "source": [
    "https://github.com/twitterdev/search-tweets-python"
   ]
  },
  {
   "cell_type": "code",
   "execution_count": 28,
   "metadata": {},
   "outputs": [],
   "source": [
    "from searchtweets import collect_results, gen_rule_payload, load_credentials"
   ]
  },
  {
   "cell_type": "code",
   "execution_count": 32,
   "metadata": {},
   "outputs": [],
   "source": [
    "import pymongo as pm"
   ]
  },
  {
   "cell_type": "code",
   "execution_count": 29,
   "metadata": {},
   "outputs": [
    {
     "name": "stderr",
     "output_type": "stream",
     "text": [
      "Grabbing bearer token from OAUTH\n"
     ]
    }
   ],
   "source": [
    "premiun_search_args = load_credentials(filename=\"./credentials.yaml\",\n",
    "                 yaml_key=\"search_tweets_api\",\n",
    "                 env_overwrite=False)"
   ]
  },
  {
   "cell_type": "code",
   "execution_count": 30,
   "metadata": {},
   "outputs": [
    {
     "name": "stdout",
     "output_type": "stream",
     "text": [
      "{\"query\": \"#nobillag\", \"maxResults\": 100, \"toDate\": \"201802020000\", \"fromDate\": \"201802010000\"}\n"
     ]
    }
   ],
   "source": [
    "rule = gen_rule_payload(\"#nobillag\",\n",
    "                        from_date=\"2018-02-01\", #UTC 00:00\n",
    "                        to_date=\"2018-02-02\",#UTC 00:00\n",
    "                        results_per_call=100) # testing with a sandbox account\n",
    "print(rule)"
   ]
  },
  {
   "cell_type": "code",
   "execution_count": 14,
   "metadata": {},
   "outputs": [],
   "source": [
    "tweets = collect_results(rule, max_results=100, result_stream_args=premiun_search_args)"
   ]
  },
  {
   "cell_type": "code",
   "execution_count": 16,
   "metadata": {},
   "outputs": [
    {
     "data": {
      "text/plain": [
       "500"
      ]
     },
     "execution_count": 16,
     "metadata": {},
     "output_type": "execute_result"
    }
   ],
   "source": [
    "len(tweets)"
   ]
  },
  {
   "cell_type": "code",
   "execution_count": 27,
   "metadata": {},
   "outputs": [
    {
     "name": "stdout",
     "output_type": "stream",
     "text": [
      "Jetzt mal ehrlich bezüglich #NoBillag: Was hat die SRG eigentlich je für uns gemacht? Video schauen und retweeten, vielen Dank! #NeinzuNoBillag https://t.co/DMrPegXzG4\n",
      "---\n",
      "Le #4mars touche pas à mes 📻 et mes 📺 romandes. Non à #NoBillag. https://t.co/SfPk0SxGFM\n",
      "---\n",
      "Ich hoffe, dass noch viele andere Ausland-🇨🇭 mit einem klaren #NEINzuNoBillag ein Zeichen setzen. Ps. Ab Sommer 2018 bin ich zurück in der Heimat und freu mich auf eine reformwillige SRG. #NoBillag = #NoSRG | @operationlibero @NoSendeschluss | Servus aus der Medienstadt München https://t.co/8UXU0NF6sT\n",
      "---\n",
      "@Blickch @20min @bazonline @Junge_Freiheit https://t.co/244IANIUdL #MeToo #AfD #SVP #ARD #ZDF #ORF #SRF #srfarena #NoBillag #NEINzuNOBillag @Blickch @20min @bazonline #WDR #NDR #srfrundschau #NZZ #Zeit #FPÖ #Stasi #Trump #Maas #SWR #Sport\n",
      "---\n",
      "@Blickch @20min @bazonline @Junge_Freiheit https://t.co/244IANIUdL #MeToo #AfD #SVP #ARD #ZDF #ORF #SRF #srfarena #NoBillag #NEINzuNOBillag @Blickch @20min @bazonline #WDR #NDR #srfrundschau #NZZ #Zeit #FPÖ #Stasi #Trump #Maas #SWR #Sport\n",
      "---\n",
      "#BDP @BurningMan. Was für Referenten, was für ein Podium. Am Schluss brannte sogar die Leinwand! Ein herzliches Dankeschön den Referenten @NiggiUllrich @christoph_col @kaiser_liberal @gregorbachmann #BurningManAlive #DieDebatteLebt #WirkämpfenbiszumSchluss #NoBillag #NoNoBillag https://t.co/8SLL6e1Vt0\n",
      "---\n",
      "@SuisseLaMoi @pikatchoune @franceinter @Sonia_Devillers Ce compte est un bot, comme beaucoup avec #nobillag\n",
      "---\n",
      "Grossartiger Kommentar zu #NoBillag (via @naehdrescherin) \n",
      "\n",
      "Ich unterschröbe jedes Wort! \n",
      "\n",
      " https://t.co/auIVbeO6I7\n",
      "---\n",
      "Diretta live con Doris Leuthard #nonobillag #nobillag  https://t.co/lkfaurMt8U https://t.co/NI1OF8DTkz\n",
      "---\n",
      "#BDP @BurningMan. Was für Referenten, was für ein Podium. Am Schluss brannte sogar die Leinwand! Ein herzliches Dankeschön den Referenten @NiggiUllrich @christoph_col @kaiser_liberal @gregorbachmann #BurningManAlive #DieDebatteLebt #WirkämpfenbiszumSchluss #NoBillag #NoNoBillag https://t.co/8SLL6e1Vt0\n",
      "---\n"
     ]
    }
   ],
   "source": [
    "for tweet in tweets[:10]:\n",
    "    print(tweet.all_text)\n",
    "    print('---')"
   ]
  },
  {
   "cell_type": "code",
   "execution_count": 34,
   "metadata": {},
   "outputs": [],
   "source": [
    "client = pm.MongoClient()\n",
    "db = client.twitter"
   ]
  },
  {
   "cell_type": "code",
   "execution_count": 35,
   "metadata": {},
   "outputs": [],
   "source": [
    "for tweet in tweets:\n",
    "    db.tweets.insert_one(tweet)"
   ]
  },
  {
   "cell_type": "code",
   "execution_count": null,
   "metadata": {},
   "outputs": [],
   "source": []
  }
 ],
 "metadata": {
  "kernelspec": {
   "display_name": "Python 3",
   "language": "python",
   "name": "python3"
  },
  "language_info": {
   "codemirror_mode": {
    "name": "ipython",
    "version": 3
   },
   "file_extension": ".py",
   "mimetype": "text/x-python",
   "name": "python",
   "nbconvert_exporter": "python",
   "pygments_lexer": "ipython3",
   "version": "3.6.4"
  }
 },
 "nbformat": 4,
 "nbformat_minor": 2
}
